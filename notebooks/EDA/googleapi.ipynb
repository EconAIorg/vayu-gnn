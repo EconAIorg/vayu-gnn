{
 "cells": [
  {
   "cell_type": "code",
   "execution_count": null,
   "metadata": {},
   "outputs": [
    {
     "name": "stdout",
     "output_type": "stream",
     "text": [
      "Please visit this URL to authorize this application: https://accounts.google.com/o/oauth2/auth?response_type=code&client_id=26632814936-8m33q1kq9qk2ba4utp1iaj89ovr04kmh.apps.googleusercontent.com&redirect_uri=http%3A%2F%2Flocalhost%3A51252%2F&scope=https%3A%2F%2Fwww.googleapis.com%2Fauth%2Fdrive.readonly&state=RZZLqNl3tneFqDsMC4AbjJq4jD6BIS&access_type=offline\n"
     ]
    }
   ],
   "source": [
    "import os\n",
    "import pickle\n",
    "from pathlib import Path\n",
    "from google.auth.transport.requests import Request\n",
    "from google_auth_oauthlib.flow import InstalledAppFlow\n",
    "from googleapiclient.discovery import build\n",
    "\n",
    "# Define the path to the credentials.json file.\n",
    "credentials_path = Path('../../credentials.json').resolve()\n",
    "\n",
    "# Ensure token.pickle is stored in the same directory as credentials.json\n",
    "token_path = credentials_path.parent / 'token.pickle'\n",
    "\n",
    "# If modifying the folder in future, modify these scopes\n",
    "SCOPES = ['https://www.googleapis.com/auth/drive.readonly']\n",
    "\n",
    "# Authenticate and create the service\n",
    "def authenticate():\n",
    "    creds = None\n",
    "    # The file token.pickle stores the user's access and refresh tokens.\n",
    "    if token_path.exists():\n",
    "        with token_path.open('rb') as token:\n",
    "            creds = pickle.load(token)\n",
    "\n",
    "    # If there are no (valid) credentials available, let the user log in.\n",
    "    if not creds or not creds.valid:\n",
    "        if creds and creds.expired and creds.refresh_token:\n",
    "            creds.refresh(Request())\n",
    "        else:\n",
    "            flow = InstalledAppFlow.from_client_secrets_file(\n",
    "                str(credentials_path), SCOPES)\n",
    "            creds = flow.run_local_server(port=0)\n",
    "\n",
    "        # Save the credentials for the next run\n",
    "        with token_path.open('wb') as token:\n",
    "            pickle.dump(creds, token)\n",
    "\n",
    "    # Build the service\n",
    "    service = build('drive', 'v3', credentials=creds)\n",
    "    return service\n",
    "\n",
    "service = authenticate()\n"
   ]
  },
  {
   "cell_type": "code",
   "execution_count": 4,
   "metadata": {},
   "outputs": [],
   "source": [
    "# Function to list files in a folder\n",
    "def list_files_in_folder(folder_id, service = service):\n",
    "    results = service.files().list(fields=\"files(id, name)\", q=f\"mimeType='text/csv'\").execute()\n",
    "    files = results.get('files', [])\n",
    "    return files\n",
    "folder_id = '1sIxF_whGAXBwk5rpXcN53TPJ2JOxAcm8'\n",
    "\n",
    "files = list_files_in_folder(folder_id)"
   ]
  },
  {
   "cell_type": "code",
   "execution_count": null,
   "metadata": {},
   "outputs": [],
   "source": [
    "import io\n",
    "import pandas as pd\n",
    "from googleapiclient.http import MediaIoBaseDownload\n",
    "\n",
    "# Function to download a file using pandas.read_csv and the pyarrow engine\n",
    "def download_file(file_id, file_name, service = service):\n",
    "    # Create a request to get the file from Google Drive\n",
    "    request = service.files().get_media(fileId=file_id)\n",
    "    # Use BytesIO to store the file in memory\n",
    "    fh = io.BytesIO()\n",
    "    downloader = MediaIoBaseDownload(fh, request)\n",
    "\n",
    "    done = False\n",
    "    while done is False:\n",
    "        status, done = downloader.next_chunk()\n",
    "        print(f\"Downloading {file_name} - {int(status.progress() * 100)}%\")\n",
    "\n",
    "    # After the download is complete, seek to the start of the file in memory\n",
    "    fh.seek(0)\n",
    "\n",
    "    # Read the CSV file into a pandas DataFrame using the pyarrow engine\n",
    "    print(f\"Reading {file_name} into pandas DataFrame using pyarrow engine...\")\n",
    "    try:\n",
    "        df = pd.read_csv(fh, dtype={'lat':'Float64','long':'Float64'}, engine='pyarrow', na_values = ' ', keep_default_na=True)\n",
    "        print(f\"Loaded {file_name} successfully into a DataFrame.\")\n",
    "    except Exception as e:\n",
    "        print(f\"Error reading {file_name}: {e}\")\n",
    "        return None\n",
    "\n",
    "    return df  # You can return the DataFrame for further processing"
   ]
  },
  {
   "cell_type": "code",
   "execution_count": null,
   "metadata": {},
   "outputs": [
    {
     "name": "stdout",
     "output_type": "stream",
     "text": [
      "Downloading 3_vayu_Patna_static_sensor_data_September_2024.csv - 100%\n",
      "Reading 3_vayu_Patna_static_sensor_data_September_2024.csv into pandas DataFrame using pyarrow engine...\n",
      "Loaded 3_vayu_Patna_static_sensor_data_September_2024.csv successfully into a DataFrame.\n",
      "Downloading 4_vayu_Patna_static_sensor_data_October_2024.csv - 100%\n",
      "Reading 4_vayu_Patna_static_sensor_data_October_2024.csv into pandas DataFrame using pyarrow engine...\n",
      "Loaded 4_vayu_Patna_static_sensor_data_October_2024.csv successfully into a DataFrame.\n",
      "Downloading 6_vayu_Patna_static_sensor_data_December_2024.csv - 100%\n",
      "Reading 6_vayu_Patna_static_sensor_data_December_2024.csv into pandas DataFrame using pyarrow engine...\n",
      "Loaded 6_vayu_Patna_static_sensor_data_December_2024.csv successfully into a DataFrame.\n",
      "Downloading 1_vayu_Patna_static_sensor_data_July_2024.csv - 100%\n",
      "Reading 1_vayu_Patna_static_sensor_data_July_2024.csv into pandas DataFrame using pyarrow engine...\n",
      "Loaded 1_vayu_Patna_static_sensor_data_July_2024.csv successfully into a DataFrame.\n",
      "Downloading 2_vayu_Patna_static_sensor_data_August_2024.csv - 100%\n",
      "Reading 2_vayu_Patna_static_sensor_data_August_2024.csv into pandas DataFrame using pyarrow engine...\n",
      "Loaded 2_vayu_Patna_static_sensor_data_August_2024.csv successfully into a DataFrame.\n",
      "Downloading 5_vayu_Patna_static_sensor_data_November_2024.csv - 100%\n",
      "Reading 5_vayu_Patna_static_sensor_data_November_2024.csv into pandas DataFrame using pyarrow engine...\n",
      "Loaded 5_vayu_Patna_static_sensor_data_November_2024.csv successfully into a DataFrame.\n"
     ]
    }
   ],
   "source": [
    "matches = ['Patna','static']\n",
    "\n",
    "# get patna static files\n",
    "patna_static = {}\n",
    "for file in files:\n",
    "    if all(m in file['name'] for m in matches):\n",
    "        patna_static[file['name']] = download_file(file_id = file['id'], file_name = file['name'])\n",
    "patna_static = pd.concat([df for df in patna_static.values()])"
   ]
  },
  {
   "cell_type": "code",
   "execution_count": 29,
   "metadata": {},
   "outputs": [
    {
     "data": {
      "text/plain": [
       "lat    long \n",
       "25.61  85.13    840\n",
       "Name: count, dtype: int64"
      ]
     },
     "execution_count": 29,
     "metadata": {},
     "output_type": "execute_result"
    }
   ],
   "source": [
    "patna_static.query('device_name == \"TARA021\"')[['lat','long']].round(2).value_counts()"
   ]
  },
  {
   "cell_type": "code",
   "execution_count": 44,
   "metadata": {},
   "outputs": [
    {
     "data": {
      "text/html": [
       "<div>\n",
       "<style scoped>\n",
       "    .dataframe tbody tr th:only-of-type {\n",
       "        vertical-align: middle;\n",
       "    }\n",
       "\n",
       "    .dataframe tbody tr th {\n",
       "        vertical-align: top;\n",
       "    }\n",
       "\n",
       "    .dataframe thead tr th {\n",
       "        text-align: left;\n",
       "    }\n",
       "\n",
       "    .dataframe thead tr:last-of-type th {\n",
       "        text-align: right;\n",
       "    }\n",
       "</style>\n",
       "<table border=\"1\" class=\"dataframe\">\n",
       "  <thead>\n",
       "    <tr>\n",
       "      <th></th>\n",
       "      <th colspan=\"2\" halign=\"left\">lat</th>\n",
       "      <th colspan=\"2\" halign=\"left\">long</th>\n",
       "    </tr>\n",
       "    <tr>\n",
       "      <th></th>\n",
       "      <th>median</th>\n",
       "      <th>std</th>\n",
       "      <th>median</th>\n",
       "      <th>std</th>\n",
       "    </tr>\n",
       "    <tr>\n",
       "      <th>device_name</th>\n",
       "      <th></th>\n",
       "      <th></th>\n",
       "      <th></th>\n",
       "      <th></th>\n",
       "    </tr>\n",
       "  </thead>\n",
       "  <tbody>\n",
       "    <tr>\n",
       "      <th>TARA062</th>\n",
       "      <td>25.614405</td>\n",
       "      <td>0.122193</td>\n",
       "      <td>85.104294</td>\n",
       "      <td>0.660378</td>\n",
       "    </tr>\n",
       "    <tr>\n",
       "      <th>TARA043</th>\n",
       "      <td>25.600883</td>\n",
       "      <td>0.113949</td>\n",
       "      <td>85.125656</td>\n",
       "      <td>0.612743</td>\n",
       "    </tr>\n",
       "    <tr>\n",
       "      <th>TARA099</th>\n",
       "      <td>25.610891</td>\n",
       "      <td>0.080981</td>\n",
       "      <td>85.201241</td>\n",
       "      <td>0.440713</td>\n",
       "    </tr>\n",
       "    <tr>\n",
       "      <th>TARA016</th>\n",
       "      <td>25.578136</td>\n",
       "      <td>0.046194</td>\n",
       "      <td>85.056870</td>\n",
       "      <td>0.236627</td>\n",
       "    </tr>\n",
       "    <tr>\n",
       "      <th>TARA047</th>\n",
       "      <td>25.586819</td>\n",
       "      <td>0.001401</td>\n",
       "      <td>85.249756</td>\n",
       "      <td>0.163350</td>\n",
       "    </tr>\n",
       "  </tbody>\n",
       "</table>\n",
       "</div>"
      ],
      "text/plain": [
       "                   lat                 long          \n",
       "                median       std     median       std\n",
       "device_name                                          \n",
       "TARA062      25.614405  0.122193  85.104294  0.660378\n",
       "TARA043      25.600883  0.113949  85.125656  0.612743\n",
       "TARA099      25.610891  0.080981  85.201241  0.440713\n",
       "TARA016      25.578136  0.046194  85.056870  0.236627\n",
       "TARA047      25.586819  0.001401  85.249756  0.163350"
      ]
     },
     "execution_count": 44,
     "metadata": {},
     "output_type": "execute_result"
    }
   ],
   "source": [
    "patna_static.query('lat > 20 & long > 70 & long < 90 & lat < 30 ').groupby('device_name').agg({'lat':['median','std'],'long':['median','std']}).sort_values(('long','std'), ascending=False).head()"
   ]
  },
  {
   "cell_type": "code",
   "execution_count": 38,
   "metadata": {},
   "outputs": [],
   "source": [
    "tara062 = patna_static.query('device_name == \"TARA062\"').query('lat > 20 & long > 80 & long < 90 & lat < 30 ').sort_values('long')"
   ]
  },
  {
   "cell_type": "code",
   "execution_count": 43,
   "metadata": {},
   "outputs": [
    {
     "data": {
      "text/html": [
       "<div>\n",
       "<style scoped>\n",
       "    .dataframe tbody tr th:only-of-type {\n",
       "        vertical-align: middle;\n",
       "    }\n",
       "\n",
       "    .dataframe tbody tr th {\n",
       "        vertical-align: top;\n",
       "    }\n",
       "\n",
       "    .dataframe thead th {\n",
       "        text-align: right;\n",
       "    }\n",
       "</style>\n",
       "<table border=\"1\" class=\"dataframe\">\n",
       "  <thead>\n",
       "    <tr style=\"text-align: right;\">\n",
       "      <th></th>\n",
       "      <th>id</th>\n",
       "      <th>device_name</th>\n",
       "      <th>lat</th>\n",
       "      <th>long</th>\n",
       "      <th>data_created_time</th>\n",
       "    </tr>\n",
       "  </thead>\n",
       "  <tbody>\n",
       "    <tr>\n",
       "      <th>786984</th>\n",
       "      <td>11150681</td>\n",
       "      <td>TARA062</td>\n",
       "      <td>25.614424</td>\n",
       "      <td>80.033333</td>\n",
       "      <td>2024-12-23 21:17:00+00:00</td>\n",
       "    </tr>\n",
       "    <tr>\n",
       "      <th>528891</th>\n",
       "      <td>6319645</td>\n",
       "      <td>TARA062</td>\n",
       "      <td>26.508942</td>\n",
       "      <td>80.270897</td>\n",
       "      <td>2024-10-18 17:46:00+00:00</td>\n",
       "    </tr>\n",
       "    <tr>\n",
       "      <th>533125</th>\n",
       "      <td>6330318</td>\n",
       "      <td>TARA062</td>\n",
       "      <td>26.508810</td>\n",
       "      <td>80.270912</td>\n",
       "      <td>2024-10-18 20:56:00+00:00</td>\n",
       "    </tr>\n",
       "    <tr>\n",
       "      <th>343430</th>\n",
       "      <td>3959560</td>\n",
       "      <td>TARA062</td>\n",
       "      <td>25.614410</td>\n",
       "      <td>85.833336</td>\n",
       "      <td>2024-09-10 22:53:00+00:00</td>\n",
       "    </tr>\n",
       "    <tr>\n",
       "      <th>343387</th>\n",
       "      <td>3959467</td>\n",
       "      <td>TARA062</td>\n",
       "      <td>25.614410</td>\n",
       "      <td>85.833336</td>\n",
       "      <td>2024-09-10 22:51:00+00:00</td>\n",
       "    </tr>\n",
       "    <tr>\n",
       "      <th>343409</th>\n",
       "      <td>3959516</td>\n",
       "      <td>TARA062</td>\n",
       "      <td>25.614410</td>\n",
       "      <td>85.833336</td>\n",
       "      <td>2024-09-10 22:52:00+00:00</td>\n",
       "    </tr>\n",
       "  </tbody>\n",
       "</table>\n",
       "</div>"
      ],
      "text/plain": [
       "              id device_name        lat       long         data_created_time\n",
       "786984  11150681     TARA062  25.614424  80.033333 2024-12-23 21:17:00+00:00\n",
       "528891   6319645     TARA062  26.508942  80.270897 2024-10-18 17:46:00+00:00\n",
       "533125   6330318     TARA062  26.508810  80.270912 2024-10-18 20:56:00+00:00\n",
       "343430   3959560     TARA062  25.614410  85.833336 2024-09-10 22:53:00+00:00\n",
       "343387   3959467     TARA062  25.614410  85.833336 2024-09-10 22:51:00+00:00\n",
       "343409   3959516     TARA062  25.614410  85.833336 2024-09-10 22:52:00+00:00"
      ]
     },
     "execution_count": 43,
     "metadata": {},
     "output_type": "execute_result"
    }
   ],
   "source": [
    "pd.concat([tara062.head(3), tara062.tail(3)])[['id','device_name','lat','long', 'data_created_time']]"
   ]
  },
  {
   "cell_type": "code",
   "execution_count": 42,
   "metadata": {},
   "outputs": [
    {
     "data": {
      "text/plain": [
       "Index(['id', 'device_name', 'lat', 'long', 'pm_25', 'pm_10', 'no2', 'co',\n",
       "       'co2', 'ch4', 'temp', 'rh', 'data_created_time'],\n",
       "      dtype='object')"
      ]
     },
     "execution_count": 42,
     "metadata": {},
     "output_type": "execute_result"
    }
   ],
   "source": [
    "tara062.columns"
   ]
  },
  {
   "cell_type": "code",
   "execution_count": 46,
   "metadata": {},
   "outputs": [
    {
     "name": "stdout",
     "output_type": "stream",
     "text": [
      "Downloading vayu_Gurugram_static_sensor_data_September_2024.csv - 100%\n",
      "Reading vayu_Gurugram_static_sensor_data_September_2024.csv into pandas DataFrame using pyarrow engine...\n",
      "Loaded vayu_Gurugram_static_sensor_data_September_2024.csv successfully into a DataFrame.\n",
      "Downloading vayu_Gurugram_static_sensor_data_October_2024.csv - 100%\n",
      "Reading vayu_Gurugram_static_sensor_data_October_2024.csv into pandas DataFrame using pyarrow engine...\n",
      "Loaded vayu_Gurugram_static_sensor_data_October_2024.csv successfully into a DataFrame.\n",
      "Downloading vayu_Gurugram_static_sensor_data_November_2024.csv - 100%\n",
      "Reading vayu_Gurugram_static_sensor_data_November_2024.csv into pandas DataFrame using pyarrow engine...\n",
      "Loaded vayu_Gurugram_static_sensor_data_November_2024.csv successfully into a DataFrame.\n",
      "Downloading vayu_Gurugram_static_sensor_data_July_2024.csv - 100%\n",
      "Reading vayu_Gurugram_static_sensor_data_July_2024.csv into pandas DataFrame using pyarrow engine...\n",
      "Loaded vayu_Gurugram_static_sensor_data_July_2024.csv successfully into a DataFrame.\n",
      "Downloading vayu_Gurugram_static_sensor_data_December_2024.csv - 100%\n",
      "Reading vayu_Gurugram_static_sensor_data_December_2024.csv into pandas DataFrame using pyarrow engine...\n",
      "Loaded vayu_Gurugram_static_sensor_data_December_2024.csv successfully into a DataFrame.\n",
      "Downloading vayu_Gurugram_static_sensor_data_August_2024.csv - 100%\n",
      "Reading vayu_Gurugram_static_sensor_data_August_2024.csv into pandas DataFrame using pyarrow engine...\n",
      "Loaded vayu_Gurugram_static_sensor_data_August_2024.csv successfully into a DataFrame.\n"
     ]
    }
   ],
   "source": [
    "matches = ['Gurugram','static']\n",
    "\n",
    "# get patna static files\n",
    "g_static = {}\n",
    "for file in files:\n",
    "    if all(m in file['name'] for m in matches):\n",
    "        g_static[file['name']] = download_file(file_id = file['id'], file_name = file['name'])\n",
    "g_static = pd.concat([df for df in g_static.values()])"
   ]
  },
  {
   "cell_type": "code",
   "execution_count": 53,
   "metadata": {},
   "outputs": [
    {
     "data": {
      "text/html": [
       "<div>\n",
       "<style scoped>\n",
       "    .dataframe tbody tr th:only-of-type {\n",
       "        vertical-align: middle;\n",
       "    }\n",
       "\n",
       "    .dataframe tbody tr th {\n",
       "        vertical-align: top;\n",
       "    }\n",
       "\n",
       "    .dataframe thead tr th {\n",
       "        text-align: left;\n",
       "    }\n",
       "\n",
       "    .dataframe thead tr:last-of-type th {\n",
       "        text-align: right;\n",
       "    }\n",
       "</style>\n",
       "<table border=\"1\" class=\"dataframe\">\n",
       "  <thead>\n",
       "    <tr>\n",
       "      <th></th>\n",
       "      <th colspan=\"2\" halign=\"left\">lat</th>\n",
       "      <th colspan=\"2\" halign=\"left\">long</th>\n",
       "    </tr>\n",
       "    <tr>\n",
       "      <th></th>\n",
       "      <th>median</th>\n",
       "      <th>std</th>\n",
       "      <th>median</th>\n",
       "      <th>std</th>\n",
       "    </tr>\n",
       "    <tr>\n",
       "      <th>device_name</th>\n",
       "      <th></th>\n",
       "      <th></th>\n",
       "      <th></th>\n",
       "      <th></th>\n",
       "    </tr>\n",
       "  </thead>\n",
       "  <tbody>\n",
       "    <tr>\n",
       "      <th>TARA039</th>\n",
       "      <td>26.508894</td>\n",
       "      <td>0.090027</td>\n",
       "      <td>80.271027</td>\n",
       "      <td>0.149311</td>\n",
       "    </tr>\n",
       "    <tr>\n",
       "      <th>TARA078</th>\n",
       "      <td>28.494034</td>\n",
       "      <td>0.000047</td>\n",
       "      <td>77.104424</td>\n",
       "      <td>0.001812</td>\n",
       "    </tr>\n",
       "    <tr>\n",
       "      <th>TARA023</th>\n",
       "      <td>28.446411</td>\n",
       "      <td>0.000136</td>\n",
       "      <td>77.100098</td>\n",
       "      <td>0.155729</td>\n",
       "    </tr>\n",
       "    <tr>\n",
       "      <th>TARA071</th>\n",
       "      <td>28.424295</td>\n",
       "      <td>0.005315</td>\n",
       "      <td>77.089455</td>\n",
       "      <td>0.000105</td>\n",
       "    </tr>\n",
       "    <tr>\n",
       "      <th>TARA045</th>\n",
       "      <td>28.498981</td>\n",
       "      <td>0.000796</td>\n",
       "      <td>77.088341</td>\n",
       "      <td>0.053508</td>\n",
       "    </tr>\n",
       "  </tbody>\n",
       "</table>\n",
       "</div>"
      ],
      "text/plain": [
       "                   lat                 long          \n",
       "                median       std     median       std\n",
       "device_name                                          \n",
       "TARA039      26.508894  0.090027  80.271027  0.149311\n",
       "TARA078      28.494034  0.000047  77.104424  0.001812\n",
       "TARA023      28.446411  0.000136  77.100098  0.155729\n",
       "TARA071      28.424295  0.005315  77.089455  0.000105\n",
       "TARA045      28.498981  0.000796  77.088341  0.053508"
      ]
     },
     "execution_count": 53,
     "metadata": {},
     "output_type": "execute_result"
    }
   ],
   "source": [
    "g_static.query('lat > 20 & long > 70 & long < 90 & lat < 30 ').groupby('device_name').agg({'lat':['median','std'],'long':['median','std']}).sort_values(('long','median'), ascending=False).head()"
   ]
  },
  {
   "cell_type": "code",
   "execution_count": 59,
   "metadata": {},
   "outputs": [
    {
     "data": {
      "text/html": [
       "<div>\n",
       "<style scoped>\n",
       "    .dataframe tbody tr th:only-of-type {\n",
       "        vertical-align: middle;\n",
       "    }\n",
       "\n",
       "    .dataframe tbody tr th {\n",
       "        vertical-align: top;\n",
       "    }\n",
       "\n",
       "    .dataframe thead th {\n",
       "        text-align: right;\n",
       "    }\n",
       "</style>\n",
       "<table border=\"1\" class=\"dataframe\">\n",
       "  <thead>\n",
       "    <tr style=\"text-align: right;\">\n",
       "      <th></th>\n",
       "      <th>id</th>\n",
       "      <th>device_name</th>\n",
       "      <th>lat</th>\n",
       "      <th>long</th>\n",
       "      <th>data_created_time</th>\n",
       "    </tr>\n",
       "  </thead>\n",
       "  <tbody>\n",
       "    <tr>\n",
       "      <th>700645</th>\n",
       "      <td>9312776</td>\n",
       "      <td>TARA059</td>\n",
       "      <td>28.420063</td>\n",
       "      <td>77.016670</td>\n",
       "      <td>2024-11-30 07:43:00+00:00</td>\n",
       "    </tr>\n",
       "    <tr>\n",
       "      <th>700723</th>\n",
       "      <td>9312981</td>\n",
       "      <td>TARA059</td>\n",
       "      <td>28.420063</td>\n",
       "      <td>77.016670</td>\n",
       "      <td>2024-11-30 07:46:00+00:00</td>\n",
       "    </tr>\n",
       "    <tr>\n",
       "      <th>385179</th>\n",
       "      <td>6318643</td>\n",
       "      <td>TARA059</td>\n",
       "      <td>26.508913</td>\n",
       "      <td>80.271301</td>\n",
       "      <td>2024-10-18 17:28:00+00:00</td>\n",
       "    </tr>\n",
       "    <tr>\n",
       "      <th>342733</th>\n",
       "      <td>6184218</td>\n",
       "      <td>TARA059</td>\n",
       "      <td>26.508934</td>\n",
       "      <td>80.271362</td>\n",
       "      <td>2024-10-16 23:38:00+00:00</td>\n",
       "    </tr>\n",
       "  </tbody>\n",
       "</table>\n",
       "</div>"
      ],
      "text/plain": [
       "             id device_name        lat       long         data_created_time\n",
       "700645  9312776     TARA059  28.420063  77.016670 2024-11-30 07:43:00+00:00\n",
       "700723  9312981     TARA059  28.420063  77.016670 2024-11-30 07:46:00+00:00\n",
       "385179  6318643     TARA059  26.508913  80.271301 2024-10-18 17:28:00+00:00\n",
       "342733  6184218     TARA059  26.508934  80.271362 2024-10-16 23:38:00+00:00"
      ]
     },
     "execution_count": 59,
     "metadata": {},
     "output_type": "execute_result"
    }
   ],
   "source": [
    "pd.concat([g_static.query('lat > 20 & long > 70 & long < 90 & lat < 30 & device_name == \"TARA059\" ').sort_values('long').head(2),\n",
    "           g_static.query('lat > 20 & long > 70 & long < 90 & lat < 30 & device_name == \"TARA059\" ').sort_values('long').tail(2)])[['id','device_name','lat','long', 'data_created_time']]"
   ]
  },
  {
   "cell_type": "code",
   "execution_count": null,
   "metadata": {},
   "outputs": [],
   "source": []
  }
 ],
 "metadata": {
  "kernelspec": {
   "display_name": ".venv",
   "language": "python",
   "name": "python3"
  },
  "language_info": {
   "codemirror_mode": {
    "name": "ipython",
    "version": 3
   },
   "file_extension": ".py",
   "mimetype": "text/x-python",
   "name": "python",
   "nbconvert_exporter": "python",
   "pygments_lexer": "ipython3",
   "version": "3.13.1"
  }
 },
 "nbformat": 4,
 "nbformat_minor": 2
}
