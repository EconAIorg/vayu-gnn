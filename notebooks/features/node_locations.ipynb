{
 "cells": [
  {
   "cell_type": "code",
   "execution_count": 18,
   "metadata": {},
   "outputs": [],
   "source": [
    "import pandas as pd\n",
    "import numpy as np\n",
    "import geopandas as gpd\n",
    "from shapely.geometry import Point\n",
    "\n",
    "from vayu_gnn.dbx.dbx_config import dbx_helper, DropboxHelper"
   ]
  },
  {
   "cell_type": "code",
   "execution_count": 4,
   "metadata": {},
   "outputs": [],
   "source": [
    "patna = dbx_helper.read_csv(dbx_helper.raw_input_path, 'node_locations', 'Patna sensor locations.csv')\n",
    "guru = dbx_helper.read_csv(dbx_helper.raw_input_path, 'node_locations', 'Gurugram sensor locations.csv')"
   ]
  },
  {
   "cell_type": "code",
   "execution_count": 26,
   "metadata": {},
   "outputs": [],
   "source": [
    "# Drop if missing Geo co-ordinates\n",
    "patna = patna.dropna(subset=['Geo co-ordinates'])\n",
    "guru = guru.dropna(subset=['Geo co-ordinates'])\n",
    "\n",
    "# Separate the Geo co-ordinates column lat and long on the comma. Both should be numeric\n",
    "patna[['lat', 'long']] = patna['Geo co-ordinates'].str.split(', ', expand=True).apply(pd.to_numeric)\n",
    "\n",
    "guru['Geo co-ordinates'] = guru['Geo co-ordinates'].str.replace('O', '0')\n",
    "guru['Geo co-ordinates'] = guru['Geo co-ordinates'].str.replace('770053172', '77.0053172')\n",
    "\n",
    "guru[['lat', 'long']] = guru['Geo co-ordinates'].str.split(', ', expand=True).apply(pd.to_numeric)\n",
    "\n",
    "# Create two dictionaries, the keys are the Sensor ID and the values are dictionaries with lat and long\n",
    "patna_dict = patna.set_index('Sensor ID')[['lat', 'long']].T.to_dict()\n",
    "guru_dict = guru.set_index('Sensor ID')[['lat', 'long']].T.to_dict()"
   ]
  },
  {
   "cell_type": "code",
   "execution_count": 27,
   "metadata": {},
   "outputs": [
    {
     "name": "stdout",
     "output_type": "stream",
     "text": [
      "File 'Patna_static.pickle' successfully uploaded to Dropbox path: '/input/clean/node_locations/sensors_only/Patna_static.pickle'\n",
      "File 'Gurugram_static.pickle' successfully uploaded to Dropbox path: '/input/clean/node_locations/sensors_only/Gurugram_static.pickle'\n"
     ]
    }
   ],
   "source": [
    "dbx_helper.write_pickle(patna_dict, dbx_helper.clean_input_path, 'node_locations/sensors_only', f'Patna_static.pickle')\n",
    "dbx_helper.write_pickle(guru_dict, dbx_helper.clean_input_path, 'node_locations/sensors_only', f'Gurugram_static.pickle')"
   ]
  },
  {
   "cell_type": "code",
   "execution_count": null,
   "metadata": {},
   "outputs": [
    {
     "name": "stdout",
     "output_type": "stream",
     "text": [
      "File 'nodes.pickle' successfully uploaded to Dropbox path: '/input/clean/node_locations/Gurugram/nodes.pickle'\n",
      "Shapefile written to temporary directory: /var/folders/w2/spn01gpx39d_btp2kmjt17jh0000gn/T/tmp4rekxw7q\n",
      "File 'nodes.shp' successfully uploaded to Dropbox at '/input/clean/node_locations/Gurugram/gdf/nodes.shp'\n",
      "File 'nodes.shx' successfully uploaded to Dropbox at '/input/clean/node_locations/Gurugram/gdf/nodes.shx'\n",
      "File 'nodes.dbf' successfully uploaded to Dropbox at '/input/clean/node_locations/Gurugram/gdf/nodes.dbf'\n",
      "File 'nodes.prj' successfully uploaded to Dropbox at '/input/clean/node_locations/Gurugram/gdf/nodes.prj'\n",
      "File 'nodes.cpg' successfully uploaded to Dropbox at '/input/clean/node_locations/Gurugram/gdf/nodes.cpg'\n"
     ]
    }
   ],
   "source": [
    "cities = ['Patna', 'Gurugram']\n",
    "\n",
    "for city in cities:\n",
    "    devices = dbx_helper.read_pickle(dbx_helper.clean_input_path, 'node_locations/sensors_only', f'{city}_static.pickle')\n",
    "\n",
    "    # Calculate the center (average latitude and longitude) from the existing devices\n",
    "    center_lat = float(sum(device['lat'] for device in devices.values()) / len(devices))\n",
    "    center_long = float(sum(device['long'] for device in devices.values()) / len(devices))\n",
    "\n",
    "    half_side = 1\n",
    "    offsets = np.linspace(-half_side, half_side, 9)  # 9 equally spaced points from -1 to 1\n",
    "\n",
    "    extra_nodes = {}\n",
    "    node_counter = 1\n",
    "\n",
    "    # Top side: fixed latitude (center_lat + 1), longitude varies by offset\n",
    "    for offset in offsets:\n",
    "        device_id = f\"extra_node_{node_counter}\"\n",
    "        lat_val = float(round(center_lat + half_side, 4))\n",
    "        long_val = float(round(center_long + offset, 4))\n",
    "        extra_nodes[device_id] = {'lat': lat_val, 'long': long_val}\n",
    "        node_counter += 1\n",
    "\n",
    "    # Bottom side: fixed latitude (center_lat - 1), longitude varies by offset\n",
    "    for offset in offsets:\n",
    "        device_id = f\"extra_node_{node_counter}\"\n",
    "        lat_val = float(round(center_lat - half_side, 4))\n",
    "        long_val = float(round(center_long + offset, 4))\n",
    "        extra_nodes[device_id] = {'lat': lat_val, 'long': long_val}\n",
    "        node_counter += 1\n",
    "\n",
    "    # Left side: fixed longitude (center_long - 1), latitude varies by offset (excluding corners)\n",
    "    for offset in offsets[1:-1]:\n",
    "        device_id = f\"extra_node_{node_counter}\"\n",
    "        lat_val = float(round(center_lat + offset, 4))\n",
    "        long_val = float(round(center_long - half_side, 4))\n",
    "        extra_nodes[device_id] = {'lat': lat_val, 'long': long_val}\n",
    "        node_counter += 1\n",
    "\n",
    "    # Right side: fixed longitude (center_long + 1), latitude varies by offset (excluding corners)\n",
    "    for offset in offsets[1:-1]:\n",
    "        device_id = f\"extra_node_{node_counter}\"\n",
    "        lat_val = float(round(center_lat + offset, 4))\n",
    "        long_val = float(round(center_long + half_side, 4))\n",
    "        extra_nodes[device_id] = {'lat': lat_val, 'long': long_val}\n",
    "        node_counter += 1\n",
    "\n",
    "    combined_devices = {**devices, **extra_nodes}\n",
    "\n",
    "    dbx_helper.write_pickle(combined_devices, dbx_helper.clean_input_path, f'node_locations/{city}', f'nodes.pickle')\n",
    "\n",
    "    # Also save as a gdf\n",
    "    records = []\n",
    "    for device_id, coords in combined_devices.items():\n",
    "        records.append({\n",
    "            'device_id': device_id,\n",
    "            'lat': coords['lat'],\n",
    "            'long': coords['long']\n",
    "        })\n",
    "\n",
    "    df = pd.DataFrame(records)\n",
    "    df['geometry'] = df.apply(lambda row: Point(row['long'], row['lat']), axis=1)\n",
    "    gdf = gpd.GeoDataFrame(df, geometry='geometry', crs=\"EPSG:4326\")\n",
    "\n",
    "    dbx_helper.write_shp(gdf, dbx_helper.clean_input_path, f'node_locations/{city}/gdf', f'nodes')"
   ]
  }
 ],
 "metadata": {
  "kernelspec": {
   "display_name": ".venv",
   "language": "python",
   "name": "python3"
  },
  "language_info": {
   "codemirror_mode": {
    "name": "ipython",
    "version": 3
   },
   "file_extension": ".py",
   "mimetype": "text/x-python",
   "name": "python",
   "nbconvert_exporter": "python",
   "pygments_lexer": "ipython3",
   "version": "3.12.3"
  }
 },
 "nbformat": 4,
 "nbformat_minor": 2
}
