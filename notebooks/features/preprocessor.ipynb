{
 "cells": [
  {
   "cell_type": "code",
   "execution_count": 1,
   "metadata": {},
   "outputs": [],
   "source": [
    "import pandas as pd \n",
    "\n",
    "from vayu_gnn.dbx.dbx_config import dbx_helper, DropboxHelper\n",
    "from vayu_gnn.data.preprocessor import Preprocessor"
   ]
  },
  {
   "cell_type": "code",
   "execution_count": 2,
   "metadata": {},
   "outputs": [],
   "source": [
    "nodes = {}\n",
    "nodes['Patna'] = dbx_helper.read_pickle(dbx_helper.clean_input_path, f'node_locations/Patna', f'nodes.pickle')\n",
    "\n",
    "cities = ['Patna']"
   ]
  },
  {
   "cell_type": "code",
   "execution_count": 3,
   "metadata": {},
   "outputs": [],
   "source": [
    "preprocessor = Preprocessor(dbx_helper, nodes, cities)"
   ]
  },
  {
   "cell_type": "code",
   "execution_count": 6,
   "metadata": {},
   "outputs": [],
   "source": [
    "datetime_range = pd.date_range(start='2024-06-01', end='2025-02-27', freq='h')\n",
    "sensor_base_panels = {}\n",
    "\n",
    "complete_index = pd.MultiIndex.from_product(\n",
    "    [preprocessor.node_ids['Patna'], datetime_range],\n",
    "    names=['node_id', 'datetime']\n",
    ")\n",
    "\n",
    "complete_df = complete_index.to_frame(index=False)\n",
    "complete_df['date'] = complete_df['datetime'].dt.date\n",
    "complete_df['hour'] = complete_df['datetime'].dt.hour\n",
    "complete_df.drop(columns='datetime', inplace=True)\n"
   ]
  },
  {
   "cell_type": "code",
   "execution_count": 4,
   "metadata": {},
   "outputs": [
    {
     "data": {
      "text/plain": [
       "{'Patna':               node_id        date  hour\n",
       " 0             TARA012  2024-05-01     0\n",
       " 1             TARA012  2024-05-01     1\n",
       " 2             TARA012  2024-05-01     2\n",
       " 3             TARA012  2024-05-01     3\n",
       " 4             TARA012  2024-05-01     4\n",
       " ...               ...         ...   ...\n",
       " 456681  extra_node_32  2025-02-26    19\n",
       " 456682  extra_node_32  2025-02-26    20\n",
       " 456683  extra_node_32  2025-02-26    21\n",
       " 456684  extra_node_32  2025-02-26    22\n",
       " 456685  extra_node_32  2025-02-26    23\n",
       " \n",
       " [456624 rows x 3 columns]}"
      ]
     },
     "execution_count": 4,
     "metadata": {},
     "output_type": "execute_result"
    }
   ],
   "source": [
    "preprocessor._create_feature_base_panels()"
   ]
  },
  {
   "cell_type": "code",
   "execution_count": null,
   "metadata": {},
   "outputs": [],
   "source": [
    "city = 'Patna'"
   ]
  },
  {
   "cell_type": "code",
   "execution_count": null,
   "metadata": {},
   "outputs": [],
   "source": [
    "df = dbx_helper.read_csv(dbx_helper.raw_input_path, f'weather/{city}', f\"weather.csv\")  "
   ]
  },
  {
   "cell_type": "code",
   "execution_count": null,
   "metadata": {},
   "outputs": [],
   "source": [
    "ow = dbx_helper.read_parquet(dbx_helper.raw_input_path, f'pollution/{city}', 'pollution.parquet') "
   ]
  },
  {
   "cell_type": "code",
   "execution_count": null,
   "metadata": {},
   "outputs": [],
   "source": [
    "df = ow.copy()"
   ]
  },
  {
   "cell_type": "code",
   "execution_count": null,
   "metadata": {},
   "outputs": [],
   "source": [
    "# Create date and hour columns from 'date'\n",
    "df.rename(columns={'dt': 'date', 'node':'node_id'}, inplace=True)\n",
    "df['date'] = pd.to_datetime(df['date'])\n",
    "df['hour'] = df['date'].dt.hour\n",
    "df['date'] = df['date'].dt.date\n",
    "\n",
    "df = df[df['date'] >= '2024-05-01']\n",
    "\n",
    "df = df[['node_id', 'date', 'hour', 'aqi', 'co', 'no', 'no2', 'o3', 'so2', 'pm2_5', 'pm10', 'nh3']]\n",
    "df = df.sort_values(['node_id', 'date', 'hour'])\n",
    "\n",
    "# Add ow_ prefix to represent 'open_weather' pollution values\n",
    "df.columns = [f'ow_{col}' if col not in ['node_id', 'date', 'hour'] else col for col in df.columns]"
   ]
  },
  {
   "cell_type": "code",
   "execution_count": null,
   "metadata": {},
   "outputs": [],
   "source": [
    "df = df[pd.to_datetime(df['date']) >= '2024-05-01']"
   ]
  },
  {
   "cell_type": "code",
   "execution_count": null,
   "metadata": {},
   "outputs": [],
   "source": [
    "df['node_id'].unique()"
   ]
  },
  {
   "cell_type": "code",
   "execution_count": null,
   "metadata": {},
   "outputs": [],
   "source": [
    "# get max date from df\n",
    "max_date = df['date'].max()\n",
    "print(max_date)"
   ]
  }
 ],
 "metadata": {
  "kernelspec": {
   "display_name": ".venv",
   "language": "python",
   "name": "python3"
  },
  "language_info": {
   "codemirror_mode": {
    "name": "ipython",
    "version": 3
   },
   "file_extension": ".py",
   "mimetype": "text/x-python",
   "name": "python",
   "nbconvert_exporter": "python",
   "pygments_lexer": "ipython3",
   "version": "3.12.3"
  }
 },
 "nbformat": 4,
 "nbformat_minor": 2
}
