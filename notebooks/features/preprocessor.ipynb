{
 "cells": [
  {
   "cell_type": "code",
   "execution_count": 2,
   "metadata": {},
   "outputs": [],
   "source": [
    "import pandas as pd \n",
    "\n",
    "from vayu_gnn.dbx.dbx_config import dbx_helper, DropboxHelper"
   ]
  },
  {
   "cell_type": "code",
   "execution_count": null,
   "metadata": {},
   "outputs": [
    {
     "name": "stderr",
     "output_type": "stream",
     "text": [
      "/Users/emmettsexton/Documents/GitHub/vayu-gnn/src/vayu_gnn/dbx/dbx_config.py:150: DtypeWarning: Columns (2,3) have mixed types. Specify dtype option on import or set low_memory=False.\n",
      "  df = pd.read_csv(io.BytesIO(res.content), encoding='utf-8', skiprows=skiprows, header=header, usecols = usecols, sep = sep, index_col = index_col, parse_dates = parse_dates, dtype = dtype)\n"
     ]
    }
   ],
   "source": [
    "city = 'Patna'\n",
    "device_type = 'static'\n",
    "\n",
    "df = dbx_helper.read_csv(dbx_helper.raw_input_path, f'sensor_data/{city}', f\"{device_type}_sensor_data.csv\")\n",
    "\n",
    "# Create date and hour columns\n",
    "df['data_created_time'] = pd.to_datetime(df['data_created_time'])\n",
    "df['date'] = df['data_created_time'].dt.date\n",
    "df['hour'] = df['data_created_time'].dt.hour\n",
    "df = df.drop(columns=['data_created_time', 'id', 'lat', 'long'])\n",
    "\n",
    "# Group by date and hour and take the average of the sensor values\n",
    "hourly_df = df.groupby(['device_name', 'date', 'hour']).mean().reset_index().copy()\n",
    "\n",
    "hourly_df = hourly_df[['device_name', 'date', 'hour'] + [col for col in hourly_df.columns if col not in ['device_name', 'date', 'hour']]]\n",
    "hourly_df = hourly_df.rename(columns={'device_name': 'node_id'})\n",
    "hourly_df = hourly_df.sort_values(by=['node_id', 'date', 'hour'])\n",
    "\n",
    "\n",
    "# Impute missings using the average value for that hour across the other sensors\n",
    "hourly_df = hourly_df.set_index(['node_id', 'date', 'hour'])\n",
    "hourly_df = hourly_df.groupby(['date', 'hour']).transform(lambda x: x.fillna(x.mean()))\n",
    "hourly_df = hourly_df.reset_index()\n",
    "\n",
    "dbx_helper.write_parquet(hourly_df, dbx_helper.clean_input_path, f'sensor_data/{city}', f\"{device_type}_sensor_data_hourly.parquet\")\n"
   ]
  },
  {
   "cell_type": "code",
   "execution_count": 26,
   "metadata": {},
   "outputs": [],
   "source": [
    "# Group by date and hour and take the average of the sensor values\n",
    "hourly_df = df.groupby(['device_name', 'date', 'hour']).mean().reset_index().copy()\n",
    "\n",
    "hourly_df = hourly_df[['device_name', 'date', 'hour'] + [col for col in hourly_df.columns if col not in ['device_name', 'date', 'hour']]]\n",
    "hourly_df = hourly_df.rename(columns={'device_name': 'node_id'})\n",
    "hourly_df = hourly_df.sort_values(by=['node_id', 'date', 'hour'])"
   ]
  },
  {
   "cell_type": "code",
   "execution_count": 24,
   "metadata": {},
   "outputs": [
    {
     "name": "stdout",
     "output_type": "stream",
     "text": [
      "5760\n"
     ]
    }
   ],
   "source": [
    "print(8*30*24)"
   ]
  }
 ],
 "metadata": {
  "kernelspec": {
   "display_name": ".venv",
   "language": "python",
   "name": "python3"
  },
  "language_info": {
   "codemirror_mode": {
    "name": "ipython",
    "version": 3
   },
   "file_extension": ".py",
   "mimetype": "text/x-python",
   "name": "python",
   "nbconvert_exporter": "python",
   "pygments_lexer": "ipython3",
   "version": "3.12.3"
  }
 },
 "nbformat": 4,
 "nbformat_minor": 2
}
