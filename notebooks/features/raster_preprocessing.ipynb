{
 "cells": [
  {
   "cell_type": "code",
   "execution_count": 3,
   "metadata": {},
   "outputs": [],
   "source": [
    "import pandas as pd\n",
    "import numpy as np\n",
    "import os\n",
    "import sys\n",
    "import matplotlib.pyplot as plt\n",
    "from rasterio.merge import merge\n",
    "from rasterio.io import MemoryFile\n",
    "\n",
    "from vayu_gnn.dbx.dbx_config import dbx_helper, DropboxHelper"
   ]
  },
  {
   "cell_type": "code",
   "execution_count": 1,
   "metadata": {},
   "outputs": [],
   "source": [
    "def combine_and_upload_tifs(tif1, tif2, directory: str, filename: str):\n",
    "    \"\"\"\n",
    "    Combines two in-memory TIFF files (side-by-side) and uploads the resulting mosaic to Dropbox.\n",
    "    \n",
    "    Args:\n",
    "        tif1 (BytesIO): The first TIFF file in-memory.\n",
    "        tif2 (BytesIO): The second TIFF file in-memory.\n",
    "        directory (str): The directory within the base Dropbox path where the file will be saved.\n",
    "        filename (str): The name of the output combined TIFF file.\n",
    "    \"\"\"\n",
    "    if tif1 is None or tif2 is None:\n",
    "        print(\"Failed to load one of the files.\")\n",
    "        return\n",
    "\n",
    "    # Open the in-memory files using MemoryFile and merge them\n",
    "    with MemoryFile(tif1) as memfile1, MemoryFile(tif2) as memfile2:\n",
    "        with memfile1.open() as src1, memfile2.open() as src2:\n",
    "            # Merge the two datasets into one mosaic\n",
    "            mosaic, out_trans = merge([src1, src2])\n",
    "            \n",
    "            # Update the metadata based on the merged raster\n",
    "            out_meta = src1.meta.copy()\n",
    "            out_meta.update({\n",
    "                \"height\": mosaic.shape[1],\n",
    "                \"width\": mosaic.shape[2],\n",
    "                \"transform\": out_trans,\n",
    "                \"driver\": \"GTiff\",\n",
    "                \"compress\": \"lzw\"  # Using LZW compression to reduce file size\n",
    "            })\n",
    "\n",
    "    # Write the mosaic to an in-memory file (BytesIO)\n",
    "    with MemoryFile() as memfile:\n",
    "        with memfile.open(**out_meta) as dest:\n",
    "            dest.write(mosaic)\n",
    "        memfile.seek(0)  # Ensure we are at the start of the file\n",
    "        combined_tif_bytes = memfile.read()\n",
    "\n",
    "    # Upload the combined TIFF to Dropbox using your existing helper function\n",
    "    dbx_helper.write_bytes(combined_tif_bytes, dbx_helper.raw_input_path, directory, filename)"
   ]
  },
  {
   "cell_type": "code",
   "execution_count": 4,
   "metadata": {},
   "outputs": [
    {
     "name": "stdout",
     "output_type": "stream",
     "text": [
      "File 'GHS_total_building_area.tif' successfully uploaded to Dropbox path: '/input/raw/settlement/GHS_total_building_area.tif'\n",
      "File 'GHS_total_building_volume.tif' successfully uploaded to Dropbox path: '/input/raw/settlement/GHS_total_building_volume.tif'\n",
      "File 'GHS_non_res_building_area.tif' successfully uploaded to Dropbox path: '/input/raw/settlement/GHS_non_res_building_area.tif'\n",
      "File 'GHS_non_res_building_volume.tif' successfully uploaded to Dropbox path: '/input/raw/settlement/GHS_non_res_building_volume.tif'\n"
     ]
    }
   ],
   "source": [
    "# Total (non-residential + residential) building area\n",
    "tif_1 = dbx_helper.read_tif(dbx_helper.raw_input_path, 'settlement/total', 'GHS_BUILT_S_E2025_GLOBE_R2023A_54009_100_V1_0_R6_C26.tif')\n",
    "tif_2 = dbx_helper.read_tif(dbx_helper.raw_input_path, 'settlement/total', 'GHS_BUILT_S_E2025_GLOBE_R2023A_54009_100_V1_0_R6_C27.tif')\n",
    "\n",
    "combine_and_upload_tifs(tif_1, tif_2, 'settlement', 'GHS_total_building_area.tif')\n",
    "\n",
    "# Total (non-residential + residential) building volume\n",
    "tif_1 = dbx_helper.read_tif(dbx_helper.raw_input_path, 'settlement/total', 'GHS_BUILT_V_E2025_GLOBE_R2023A_54009_100_V1_0_R6_C26.tif')\n",
    "tif_2 = dbx_helper.read_tif(dbx_helper.raw_input_path, 'settlement/total', 'GHS_BUILT_V_E2025_GLOBE_R2023A_54009_100_V1_0_R6_C27.tif')\n",
    "\n",
    "combine_and_upload_tifs(tif_1, tif_2, 'settlement', 'GHS_total_building_volume.tif')\n",
    "\n",
    "# Non-residential building area\n",
    "tif_1 = dbx_helper.read_tif(dbx_helper.raw_input_path, 'settlement/non_residential', 'GHS_BUILT_S_NRES_E2025_GLOBE_R2023A_54009_100_V1_0_R6_C26.tif')\n",
    "tif_2 = dbx_helper.read_tif(dbx_helper.raw_input_path, 'settlement/non_residential', 'GHS_BUILT_S_NRES_E2025_GLOBE_R2023A_54009_100_V1_0_R6_C27.tif')\n",
    "\n",
    "combine_and_upload_tifs(tif_1, tif_2, 'settlement', 'GHS_non_res_building_area.tif')\n",
    "\n",
    "# Non-residential building volume\n",
    "tif_1 = dbx_helper.read_tif(dbx_helper.raw_input_path, 'settlement/non_residential', 'GHS_BUILT_V_NRES_E2025_GLOBE_R2023A_54009_100_V1_0_R6_C26.tif')\n",
    "tif_2 = dbx_helper.read_tif(dbx_helper.raw_input_path, 'settlement/non_residential', 'GHS_BUILT_V_NRES_E2025_GLOBE_R2023A_54009_100_V1_0_R6_C27.tif')\n",
    "\n",
    "combine_and_upload_tifs(tif_1, tif_2, 'settlement', 'GHS_non_res_building_volume.tif')\n"
   ]
  }
 ],
 "metadata": {
  "kernelspec": {
   "display_name": ".venv",
   "language": "python",
   "name": "python3"
  },
  "language_info": {
   "codemirror_mode": {
    "name": "ipython",
    "version": 3
   },
   "file_extension": ".py",
   "mimetype": "text/x-python",
   "name": "python",
   "nbconvert_exporter": "python",
   "pygments_lexer": "ipython3",
   "version": "3.12.3"
  }
 },
 "nbformat": 4,
 "nbformat_minor": 2
}
