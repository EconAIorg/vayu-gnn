{
 "cells": [
  {
   "cell_type": "code",
   "execution_count": 15,
   "metadata": {},
   "outputs": [],
   "source": [
    "import pandas as pd\n",
    "from vayu_gnn.dbx.dbx_config import dbx_helper, DropboxHelper"
   ]
  },
  {
   "cell_type": "code",
   "execution_count": 23,
   "metadata": {},
   "outputs": [],
   "source": [
    "node_pickle = dbx_helper.read_pickle(dbx_helper.clean_input_path, 'node_locations/Patna', 'nodes.pickle') \n",
    "df = pd.DataFrame.from_dict(node_pickle, orient='index')\n",
    "df = df.reset_index().rename(columns={'index': 'node_id'})\n",
    "df = df.rename(columns={'long': 'lon'})\n",
    "df = df[df['node_id'].str.startswith('T')]\n",
    "\n",
    "df.to_csv('/Users/emmettsexton/Dropbox/Mac (2)/Desktop/EconAI/India air pollution hackathon/demo_nodes.csv', index=False)"
   ]
  },
  {
   "cell_type": "code",
   "execution_count": 19,
   "metadata": {},
   "outputs": [
    {
     "name": "stdout",
     "output_type": "stream",
     "text": [
      "File 'predictions.parquet' successfully downloaded and loaded into a DataFrame.\n"
     ]
    }
   ],
   "source": [
    "predictions_in = dbx_helper.read_parquet(dbx_helper.output_path, 'Patna', 'predictions.parquet')\n",
    "predictions = predictions_in.reset_index().copy()\n",
    "predictions = predictions.melt(id_vars=['date', 'hour', 'horizon', 'node_id'], var_name='pollutant', value_name='value')\n",
    "predictions['pollutant'] = predictions['pollutant'].str.upper()\n",
    "predictions['pollutant'] = predictions['pollutant'].str.replace('PM_25', 'PM2.5')\n",
    "predictions['pollutant'] = predictions['pollutant'].str.replace('PM_10', 'PM10')"
   ]
  },
  {
   "cell_type": "code",
   "execution_count": 22,
   "metadata": {},
   "outputs": [
    {
     "data": {
      "application/vnd.microsoft.datawrangler.viewer.v0+json": {
       "columns": [
        {
         "name": "index",
         "rawType": "int64",
         "type": "integer"
        },
        {
         "name": "node",
         "rawType": "object",
         "type": "string"
        },
        {
         "name": "lat",
         "rawType": "float64",
         "type": "float"
        },
        {
         "name": "lon",
         "rawType": "float64",
         "type": "float"
        }
       ],
       "conversionMethod": "pd.DataFrame",
       "ref": "e4b32263-146b-4169-991a-b57fbcd3817e",
       "rows": [
        [
         "0",
         "TARA012",
         "25.599409",
         "85.113762"
        ],
        [
         "1",
         "TARA013",
         "25.606958",
         "85.165016"
        ],
        [
         "2",
         "TARA016",
         "25.578127",
         "85.056877"
        ],
        [
         "3",
         "TARA017",
         "25.62245",
         "85.09153"
        ],
        [
         "4",
         "TARA018",
         "25.582579",
         "85.097511"
        ],
        [
         "5",
         "TARA019",
         "25.569492",
         "85.17997"
        ],
        [
         "6",
         "TARA021",
         "25.610352",
         "85.13295"
        ],
        [
         "7",
         "TARA022",
         "25.619673",
         "85.147415"
        ],
        [
         "8",
         "TARA025",
         "25.614792",
         "85.09922"
        ],
        [
         "9",
         "TARA026",
         "25.636068",
         "85.104805"
        ],
        [
         "10",
         "TARA027",
         "25.626831",
         "85.12294"
        ],
        [
         "11",
         "TARA028",
         "25.586517",
         "85.044357"
        ],
        [
         "12",
         "TARA030",
         "25.588284",
         "85.166245"
        ],
        [
         "13",
         "TARA031",
         "25.596842",
         "85.085609"
        ],
        [
         "14",
         "TARA032",
         "25.61952",
         "85.126213"
        ],
        [
         "15",
         "TARA035",
         "25.617388",
         "85.079132"
        ],
        [
         "16",
         "TARA043",
         "25.600819",
         "85.125664"
        ],
        [
         "17",
         "TARA047",
         "25.586777",
         "85.249733"
        ],
        [
         "18",
         "TARA048",
         "25.566513",
         "85.264015"
        ],
        [
         "19",
         "TARA049",
         "25.615025",
         "85.055832"
        ],
        [
         "20",
         "TARA052",
         "25.640572",
         "85.095337"
        ],
        [
         "21",
         "TARA061",
         "25.601437",
         "85.146797"
        ],
        [
         "22",
         "TARA062",
         "25.614328",
         "85.104317"
        ],
        [
         "23",
         "TARA063",
         "25.62146",
         "85.114479"
        ],
        [
         "24",
         "TARA064",
         "25.631592",
         "85.115997"
        ],
        [
         "25",
         "TARA073",
         "25.580156",
         "85.190163"
        ],
        [
         "26",
         "TARA077",
         "25.589056",
         "85.236832"
        ],
        [
         "27",
         "TARA086",
         "25.596622",
         "85.226913"
        ],
        [
         "28",
         "TARA099",
         "25.610878",
         "85.20121"
        ]
       ],
       "shape": {
        "columns": 3,
        "rows": 29
       }
      },
      "text/html": [
       "<div>\n",
       "<style scoped>\n",
       "    .dataframe tbody tr th:only-of-type {\n",
       "        vertical-align: middle;\n",
       "    }\n",
       "\n",
       "    .dataframe tbody tr th {\n",
       "        vertical-align: top;\n",
       "    }\n",
       "\n",
       "    .dataframe thead th {\n",
       "        text-align: right;\n",
       "    }\n",
       "</style>\n",
       "<table border=\"1\" class=\"dataframe\">\n",
       "  <thead>\n",
       "    <tr style=\"text-align: right;\">\n",
       "      <th></th>\n",
       "      <th>node</th>\n",
       "      <th>lat</th>\n",
       "      <th>lon</th>\n",
       "    </tr>\n",
       "  </thead>\n",
       "  <tbody>\n",
       "    <tr>\n",
       "      <th>0</th>\n",
       "      <td>TARA012</td>\n",
       "      <td>25.599409</td>\n",
       "      <td>85.113762</td>\n",
       "    </tr>\n",
       "    <tr>\n",
       "      <th>1</th>\n",
       "      <td>TARA013</td>\n",
       "      <td>25.606958</td>\n",
       "      <td>85.165016</td>\n",
       "    </tr>\n",
       "    <tr>\n",
       "      <th>2</th>\n",
       "      <td>TARA016</td>\n",
       "      <td>25.578127</td>\n",
       "      <td>85.056877</td>\n",
       "    </tr>\n",
       "    <tr>\n",
       "      <th>3</th>\n",
       "      <td>TARA017</td>\n",
       "      <td>25.622450</td>\n",
       "      <td>85.091530</td>\n",
       "    </tr>\n",
       "    <tr>\n",
       "      <th>4</th>\n",
       "      <td>TARA018</td>\n",
       "      <td>25.582579</td>\n",
       "      <td>85.097511</td>\n",
       "    </tr>\n",
       "    <tr>\n",
       "      <th>5</th>\n",
       "      <td>TARA019</td>\n",
       "      <td>25.569492</td>\n",
       "      <td>85.179970</td>\n",
       "    </tr>\n",
       "    <tr>\n",
       "      <th>6</th>\n",
       "      <td>TARA021</td>\n",
       "      <td>25.610352</td>\n",
       "      <td>85.132950</td>\n",
       "    </tr>\n",
       "    <tr>\n",
       "      <th>7</th>\n",
       "      <td>TARA022</td>\n",
       "      <td>25.619673</td>\n",
       "      <td>85.147415</td>\n",
       "    </tr>\n",
       "    <tr>\n",
       "      <th>8</th>\n",
       "      <td>TARA025</td>\n",
       "      <td>25.614792</td>\n",
       "      <td>85.099220</td>\n",
       "    </tr>\n",
       "    <tr>\n",
       "      <th>9</th>\n",
       "      <td>TARA026</td>\n",
       "      <td>25.636068</td>\n",
       "      <td>85.104805</td>\n",
       "    </tr>\n",
       "    <tr>\n",
       "      <th>10</th>\n",
       "      <td>TARA027</td>\n",
       "      <td>25.626831</td>\n",
       "      <td>85.122940</td>\n",
       "    </tr>\n",
       "    <tr>\n",
       "      <th>11</th>\n",
       "      <td>TARA028</td>\n",
       "      <td>25.586517</td>\n",
       "      <td>85.044357</td>\n",
       "    </tr>\n",
       "    <tr>\n",
       "      <th>12</th>\n",
       "      <td>TARA030</td>\n",
       "      <td>25.588284</td>\n",
       "      <td>85.166245</td>\n",
       "    </tr>\n",
       "    <tr>\n",
       "      <th>13</th>\n",
       "      <td>TARA031</td>\n",
       "      <td>25.596842</td>\n",
       "      <td>85.085609</td>\n",
       "    </tr>\n",
       "    <tr>\n",
       "      <th>14</th>\n",
       "      <td>TARA032</td>\n",
       "      <td>25.619520</td>\n",
       "      <td>85.126213</td>\n",
       "    </tr>\n",
       "    <tr>\n",
       "      <th>15</th>\n",
       "      <td>TARA035</td>\n",
       "      <td>25.617388</td>\n",
       "      <td>85.079132</td>\n",
       "    </tr>\n",
       "    <tr>\n",
       "      <th>16</th>\n",
       "      <td>TARA043</td>\n",
       "      <td>25.600819</td>\n",
       "      <td>85.125664</td>\n",
       "    </tr>\n",
       "    <tr>\n",
       "      <th>17</th>\n",
       "      <td>TARA047</td>\n",
       "      <td>25.586777</td>\n",
       "      <td>85.249733</td>\n",
       "    </tr>\n",
       "    <tr>\n",
       "      <th>18</th>\n",
       "      <td>TARA048</td>\n",
       "      <td>25.566513</td>\n",
       "      <td>85.264015</td>\n",
       "    </tr>\n",
       "    <tr>\n",
       "      <th>19</th>\n",
       "      <td>TARA049</td>\n",
       "      <td>25.615025</td>\n",
       "      <td>85.055832</td>\n",
       "    </tr>\n",
       "    <tr>\n",
       "      <th>20</th>\n",
       "      <td>TARA052</td>\n",
       "      <td>25.640572</td>\n",
       "      <td>85.095337</td>\n",
       "    </tr>\n",
       "    <tr>\n",
       "      <th>21</th>\n",
       "      <td>TARA061</td>\n",
       "      <td>25.601437</td>\n",
       "      <td>85.146797</td>\n",
       "    </tr>\n",
       "    <tr>\n",
       "      <th>22</th>\n",
       "      <td>TARA062</td>\n",
       "      <td>25.614328</td>\n",
       "      <td>85.104317</td>\n",
       "    </tr>\n",
       "    <tr>\n",
       "      <th>23</th>\n",
       "      <td>TARA063</td>\n",
       "      <td>25.621460</td>\n",
       "      <td>85.114479</td>\n",
       "    </tr>\n",
       "    <tr>\n",
       "      <th>24</th>\n",
       "      <td>TARA064</td>\n",
       "      <td>25.631592</td>\n",
       "      <td>85.115997</td>\n",
       "    </tr>\n",
       "    <tr>\n",
       "      <th>25</th>\n",
       "      <td>TARA073</td>\n",
       "      <td>25.580156</td>\n",
       "      <td>85.190163</td>\n",
       "    </tr>\n",
       "    <tr>\n",
       "      <th>26</th>\n",
       "      <td>TARA077</td>\n",
       "      <td>25.589056</td>\n",
       "      <td>85.236832</td>\n",
       "    </tr>\n",
       "    <tr>\n",
       "      <th>27</th>\n",
       "      <td>TARA086</td>\n",
       "      <td>25.596622</td>\n",
       "      <td>85.226913</td>\n",
       "    </tr>\n",
       "    <tr>\n",
       "      <th>28</th>\n",
       "      <td>TARA099</td>\n",
       "      <td>25.610878</td>\n",
       "      <td>85.201210</td>\n",
       "    </tr>\n",
       "  </tbody>\n",
       "</table>\n",
       "</div>"
      ],
      "text/plain": [
       "       node        lat        lon\n",
       "0   TARA012  25.599409  85.113762\n",
       "1   TARA013  25.606958  85.165016\n",
       "2   TARA016  25.578127  85.056877\n",
       "3   TARA017  25.622450  85.091530\n",
       "4   TARA018  25.582579  85.097511\n",
       "5   TARA019  25.569492  85.179970\n",
       "6   TARA021  25.610352  85.132950\n",
       "7   TARA022  25.619673  85.147415\n",
       "8   TARA025  25.614792  85.099220\n",
       "9   TARA026  25.636068  85.104805\n",
       "10  TARA027  25.626831  85.122940\n",
       "11  TARA028  25.586517  85.044357\n",
       "12  TARA030  25.588284  85.166245\n",
       "13  TARA031  25.596842  85.085609\n",
       "14  TARA032  25.619520  85.126213\n",
       "15  TARA035  25.617388  85.079132\n",
       "16  TARA043  25.600819  85.125664\n",
       "17  TARA047  25.586777  85.249733\n",
       "18  TARA048  25.566513  85.264015\n",
       "19  TARA049  25.615025  85.055832\n",
       "20  TARA052  25.640572  85.095337\n",
       "21  TARA061  25.601437  85.146797\n",
       "22  TARA062  25.614328  85.104317\n",
       "23  TARA063  25.621460  85.114479\n",
       "24  TARA064  25.631592  85.115997\n",
       "25  TARA073  25.580156  85.190163\n",
       "26  TARA077  25.589056  85.236832\n",
       "27  TARA086  25.596622  85.226913\n",
       "28  TARA099  25.610878  85.201210"
      ]
     },
     "execution_count": 22,
     "metadata": {},
     "output_type": "execute_result"
    }
   ],
   "source": [
    "df"
   ]
  },
  {
   "cell_type": "code",
   "execution_count": 20,
   "metadata": {},
   "outputs": [],
   "source": [
    "predictions.to_csv('/Users/emmettsexton/Dropbox/Mac (2)/Desktop/EconAI/India air pollution hackathon/predictions.csv', index=False)"
   ]
  },
  {
   "cell_type": "code",
   "execution_count": 2,
   "metadata": {},
   "outputs": [
    {
     "name": "stderr",
     "output_type": "stream",
     "text": [
      "2025-03-23 09:49:03.014 WARNING streamlit.runtime.scriptrunner_utils.script_run_context: Thread 'MainThread': missing ScriptRunContext! This warning can be ignored when running in bare mode.\n"
     ]
    }
   ],
   "source": [
    "import streamlit as st\n",
    "import pandas as pd\n",
    "import numpy as np\n",
    "import folium\n",
    "from streamlit_folium import st_folium\n",
    "from branca.colormap import StepColormap\n",
    "\n",
    "# Nodes around central Patna\n",
    "np.random.seed(42)\n",
    "n_nodes = 30\n",
    "center_lat, center_lon = 25.5941, 85.1376\n",
    "nodes = pd.DataFrame({\n",
    "    'node_id': [f'Node {i+1}' for i in range(n_nodes)],\n",
    "    'lat': center_lat + np.random.uniform(-0.05, 0.05, n_nodes),\n",
    "    'lon': center_lon + np.random.uniform(-0.05, 0.05, n_nodes)\n",
    "})\n",
    "\n",
    "# Dates, hours, prediction horizons, pollutants\n",
    "dates = pd.date_range('2025-03-01', periods=7)\n",
    "hours = np.arange(24)\n",
    "horizons = np.arange(1, 9)\n",
    "pollutants = ['PM2.5', 'PM10', 'NO2', 'CO', 'CO2', 'CH4']\n",
    "\n",
    "# Create random pollution data\n",
    "multi_idx = pd.MultiIndex.from_product(\n",
    "    [dates, hours, horizons, pollutants, nodes['node_id']],\n",
    "    names=['date', 'hour', 'horizon', 'pollutant', 'node_id']\n",
    ")\n",
    "pollution_df = pd.DataFrame(index=multi_idx).reset_index()\n",
    "pollution_df['value'] = np.random.uniform(10, 1000, len(pollution_df))\n"
   ]
  },
  {
   "cell_type": "code",
   "execution_count": 3,
   "metadata": {},
   "outputs": [
    {
     "data": {
      "application/vnd.microsoft.datawrangler.viewer.v0+json": {
       "columns": [
        {
         "name": "index",
         "rawType": "int64",
         "type": "integer"
        },
        {
         "name": "date",
         "rawType": "datetime64[ns]",
         "type": "datetime"
        },
        {
         "name": "hour",
         "rawType": "int64",
         "type": "integer"
        },
        {
         "name": "horizon",
         "rawType": "int64",
         "type": "integer"
        },
        {
         "name": "pollutant",
         "rawType": "object",
         "type": "string"
        },
        {
         "name": "node_id",
         "rawType": "object",
         "type": "string"
        },
        {
         "name": "value",
         "rawType": "float64",
         "type": "float"
        }
       ],
       "conversionMethod": "pd.DataFrame",
       "ref": "26f48c36-be63-40e8-8c16-b76efd72a1e5",
       "rows": [
        [
         "0",
         "2025-03-01 00:00:00",
         "0",
         "1",
         "PM2.5",
         "Node 1",
         "394.7905167925872"
        ],
        [
         "1",
         "2025-03-01 00:00:00",
         "0",
         "1",
         "PM2.5",
         "Node 2",
         "278.63554145615694"
        ],
        [
         "2",
         "2025-03-01 00:00:00",
         "0",
         "1",
         "PM2.5",
         "Node 3",
         "830.45013406041"
        ],
        [
         "3",
         "2025-03-01 00:00:00",
         "0",
         "1",
         "PM2.5",
         "Node 4",
         "363.1857934266534"
        ],
        [
         "4",
         "2025-03-01 00:00:00",
         "0",
         "1",
         "PM2.5",
         "Node 5",
         "288.1251645905069"
        ],
        [
         "5",
         "2025-03-01 00:00:00",
         "0",
         "1",
         "PM2.5",
         "Node 6",
         "547.269122326666"
        ],
        [
         "6",
         "2025-03-01 00:00:00",
         "0",
         "1",
         "PM2.5",
         "Node 7",
         "149.51498272501502"
        ],
        [
         "7",
         "2025-03-01 00:00:00",
         "0",
         "1",
         "PM2.5",
         "Node 8",
         "804.1750109464992"
        ],
        [
         "8",
         "2025-03-01 00:00:00",
         "0",
         "1",
         "PM2.5",
         "Node 9",
         "83.80513724297312"
        ],
        [
         "9",
         "2025-03-01 00:00:00",
         "0",
         "1",
         "PM2.5",
         "Node 10",
         "987.0180672345122"
        ],
        [
         "10",
         "2025-03-01 00:00:00",
         "0",
         "1",
         "PM2.5",
         "Node 11",
         "774.5223216036909"
        ],
        [
         "11",
         "2025-03-01 00:00:00",
         "0",
         "1",
         "PM2.5",
         "Node 12",
         "206.72852471883067"
        ],
        [
         "12",
         "2025-03-01 00:00:00",
         "0",
         "1",
         "PM2.5",
         "Node 13",
         "15.466895952366375"
        ],
        [
         "13",
         "2025-03-01 00:00:00",
         "0",
         "1",
         "PM2.5",
         "Node 14",
         "817.3068141702859"
        ],
        [
         "14",
         "2025-03-01 00:00:00",
         "0",
         "1",
         "PM2.5",
         "Node 15",
         "709.788770409141"
        ],
        [
         "15",
         "2025-03-01 00:00:00",
         "0",
         "1",
         "PM2.5",
         "Node 16",
         "731.7170963605774"
        ],
        [
         "16",
         "2025-03-01 00:00:00",
         "0",
         "1",
         "PM2.5",
         "Node 17",
         "773.5576432190862"
        ],
        [
         "17",
         "2025-03-01 00:00:00",
         "0",
         "1",
         "PM2.5",
         "Node 18",
         "83.30420521674945"
        ],
        [
         "18",
         "2025-03-01 00:00:00",
         "0",
         "1",
         "PM2.5",
         "Node 19",
         "364.8810712588299"
        ],
        [
         "19",
         "2025-03-01 00:00:00",
         "0",
         "1",
         "PM2.5",
         "Node 20",
         "124.71036892987841"
        ],
        [
         "20",
         "2025-03-01 00:00:00",
         "0",
         "1",
         "PM2.5",
         "Node 21",
         "864.4723916168376"
        ],
        [
         "21",
         "2025-03-01 00:00:00",
         "0",
         "1",
         "PM2.5",
         "Node 22",
         "627.0651455592823"
        ],
        [
         "22",
         "2025-03-01 00:00:00",
         "0",
         "1",
         "PM2.5",
         "Node 23",
         "337.5890446041227"
        ],
        [
         "23",
         "2025-03-01 00:00:00",
         "0",
         "1",
         "PM2.5",
         "Node 24",
         "72.9227667831634"
        ],
        [
         "24",
         "2025-03-01 00:00:00",
         "0",
         "1",
         "PM2.5",
         "Node 25",
         "317.8724984985056"
        ],
        [
         "25",
         "2025-03-01 00:00:00",
         "0",
         "1",
         "PM2.5",
         "Node 26",
         "331.9314888064796"
        ],
        [
         "26",
         "2025-03-01 00:00:00",
         "0",
         "1",
         "PM2.5",
         "Node 27",
         "732.3101165546834"
        ],
        [
         "27",
         "2025-03-01 00:00:00",
         "0",
         "1",
         "PM2.5",
         "Node 28",
         "641.181896641661"
        ],
        [
         "28",
         "2025-03-01 00:00:00",
         "0",
         "1",
         "PM2.5",
         "Node 29",
         "888.3406151505633"
        ],
        [
         "29",
         "2025-03-01 00:00:00",
         "0",
         "1",
         "PM2.5",
         "Node 30",
         "477.4927759103298"
        ],
        [
         "30",
         "2025-03-01 00:00:00",
         "0",
         "1",
         "PM10",
         "Node 1",
         "128.3983034789187"
        ],
        [
         "31",
         "2025-03-01 00:00:00",
         "0",
         "1",
         "PM10",
         "Node 2",
         "716.1123393507651"
        ],
        [
         "32",
         "2025-03-01 00:00:00",
         "0",
         "1",
         "PM10",
         "Node 3",
         "763.1771981307285"
        ],
        [
         "33",
         "2025-03-01 00:00:00",
         "0",
         "1",
         "PM10",
         "Node 4",
         "565.6644255938013"
        ],
        [
         "34",
         "2025-03-01 00:00:00",
         "0",
         "1",
         "PM10",
         "Node 5",
         "773.2575081550153"
        ],
        [
         "35",
         "2025-03-01 00:00:00",
         "0",
         "1",
         "PM10",
         "Node 6",
         "498.85764040074685"
        ],
        [
         "36",
         "2025-03-01 00:00:00",
         "0",
         "1",
         "PM10",
         "Node 7",
         "527.5055010881741"
        ],
        [
         "37",
         "2025-03-01 00:00:00",
         "0",
         "1",
         "PM10",
         "Node 8",
         "433.26560817496414"
        ],
        [
         "38",
         "2025-03-01 00:00:00",
         "0",
         "1",
         "PM10",
         "Node 9",
         "35.164935476654236"
        ],
        [
         "39",
         "2025-03-01 00:00:00",
         "0",
         "1",
         "PM10",
         "Node 10",
         "116.81251272337141"
        ],
        [
         "40",
         "2025-03-01 00:00:00",
         "0",
         "1",
         "PM10",
         "Node 11",
         "41.11489382986691"
        ],
        [
         "41",
         "2025-03-01 00:00:00",
         "0",
         "1",
         "PM10",
         "Node 12",
         "640.0463071511426"
        ],
        [
         "42",
         "2025-03-01 00:00:00",
         "0",
         "1",
         "PM10",
         "Node 13",
         "321.2124212655634"
        ],
        [
         "43",
         "2025-03-01 00:00:00",
         "0",
         "1",
         "PM10",
         "Node 14",
         "513.4849842530557"
        ],
        [
         "44",
         "2025-03-01 00:00:00",
         "0",
         "1",
         "PM10",
         "Node 15",
         "908.490809186832"
        ],
        [
         "45",
         "2025-03-01 00:00:00",
         "0",
         "1",
         "PM10",
         "Node 16",
         "256.7993068573862"
        ],
        [
         "46",
         "2025-03-01 00:00:00",
         "0",
         "1",
         "PM10",
         "Node 17",
         "416.2790938052734"
        ],
        [
         "47",
         "2025-03-01 00:00:00",
         "0",
         "1",
         "PM10",
         "Node 18",
         "757.9956271576182"
        ],
        [
         "48",
         "2025-03-01 00:00:00",
         "0",
         "1",
         "PM10",
         "Node 19",
         "236.51018383670623"
        ],
        [
         "49",
         "2025-03-01 00:00:00",
         "0",
         "1",
         "PM10",
         "Node 20",
         "86.21011073050506"
        ]
       ],
       "shape": {
        "columns": 6,
        "rows": 241920
       }
      },
      "text/html": [
       "<div>\n",
       "<style scoped>\n",
       "    .dataframe tbody tr th:only-of-type {\n",
       "        vertical-align: middle;\n",
       "    }\n",
       "\n",
       "    .dataframe tbody tr th {\n",
       "        vertical-align: top;\n",
       "    }\n",
       "\n",
       "    .dataframe thead th {\n",
       "        text-align: right;\n",
       "    }\n",
       "</style>\n",
       "<table border=\"1\" class=\"dataframe\">\n",
       "  <thead>\n",
       "    <tr style=\"text-align: right;\">\n",
       "      <th></th>\n",
       "      <th>date</th>\n",
       "      <th>hour</th>\n",
       "      <th>horizon</th>\n",
       "      <th>pollutant</th>\n",
       "      <th>node_id</th>\n",
       "      <th>value</th>\n",
       "    </tr>\n",
       "  </thead>\n",
       "  <tbody>\n",
       "    <tr>\n",
       "      <th>0</th>\n",
       "      <td>2025-03-01</td>\n",
       "      <td>0</td>\n",
       "      <td>1</td>\n",
       "      <td>PM2.5</td>\n",
       "      <td>Node 1</td>\n",
       "      <td>394.790517</td>\n",
       "    </tr>\n",
       "    <tr>\n",
       "      <th>1</th>\n",
       "      <td>2025-03-01</td>\n",
       "      <td>0</td>\n",
       "      <td>1</td>\n",
       "      <td>PM2.5</td>\n",
       "      <td>Node 2</td>\n",
       "      <td>278.635541</td>\n",
       "    </tr>\n",
       "    <tr>\n",
       "      <th>2</th>\n",
       "      <td>2025-03-01</td>\n",
       "      <td>0</td>\n",
       "      <td>1</td>\n",
       "      <td>PM2.5</td>\n",
       "      <td>Node 3</td>\n",
       "      <td>830.450134</td>\n",
       "    </tr>\n",
       "    <tr>\n",
       "      <th>3</th>\n",
       "      <td>2025-03-01</td>\n",
       "      <td>0</td>\n",
       "      <td>1</td>\n",
       "      <td>PM2.5</td>\n",
       "      <td>Node 4</td>\n",
       "      <td>363.185793</td>\n",
       "    </tr>\n",
       "    <tr>\n",
       "      <th>4</th>\n",
       "      <td>2025-03-01</td>\n",
       "      <td>0</td>\n",
       "      <td>1</td>\n",
       "      <td>PM2.5</td>\n",
       "      <td>Node 5</td>\n",
       "      <td>288.125165</td>\n",
       "    </tr>\n",
       "    <tr>\n",
       "      <th>...</th>\n",
       "      <td>...</td>\n",
       "      <td>...</td>\n",
       "      <td>...</td>\n",
       "      <td>...</td>\n",
       "      <td>...</td>\n",
       "      <td>...</td>\n",
       "    </tr>\n",
       "    <tr>\n",
       "      <th>241915</th>\n",
       "      <td>2025-03-07</td>\n",
       "      <td>23</td>\n",
       "      <td>8</td>\n",
       "      <td>CH4</td>\n",
       "      <td>Node 26</td>\n",
       "      <td>190.712635</td>\n",
       "    </tr>\n",
       "    <tr>\n",
       "      <th>241916</th>\n",
       "      <td>2025-03-07</td>\n",
       "      <td>23</td>\n",
       "      <td>8</td>\n",
       "      <td>CH4</td>\n",
       "      <td>Node 27</td>\n",
       "      <td>416.867018</td>\n",
       "    </tr>\n",
       "    <tr>\n",
       "      <th>241917</th>\n",
       "      <td>2025-03-07</td>\n",
       "      <td>23</td>\n",
       "      <td>8</td>\n",
       "      <td>CH4</td>\n",
       "      <td>Node 28</td>\n",
       "      <td>494.061738</td>\n",
       "    </tr>\n",
       "    <tr>\n",
       "      <th>241918</th>\n",
       "      <td>2025-03-07</td>\n",
       "      <td>23</td>\n",
       "      <td>8</td>\n",
       "      <td>CH4</td>\n",
       "      <td>Node 29</td>\n",
       "      <td>690.976226</td>\n",
       "    </tr>\n",
       "    <tr>\n",
       "      <th>241919</th>\n",
       "      <td>2025-03-07</td>\n",
       "      <td>23</td>\n",
       "      <td>8</td>\n",
       "      <td>CH4</td>\n",
       "      <td>Node 30</td>\n",
       "      <td>652.420499</td>\n",
       "    </tr>\n",
       "  </tbody>\n",
       "</table>\n",
       "<p>241920 rows × 6 columns</p>\n",
       "</div>"
      ],
      "text/plain": [
       "             date  hour  horizon pollutant  node_id       value\n",
       "0      2025-03-01     0        1     PM2.5   Node 1  394.790517\n",
       "1      2025-03-01     0        1     PM2.5   Node 2  278.635541\n",
       "2      2025-03-01     0        1     PM2.5   Node 3  830.450134\n",
       "3      2025-03-01     0        1     PM2.5   Node 4  363.185793\n",
       "4      2025-03-01     0        1     PM2.5   Node 5  288.125165\n",
       "...           ...   ...      ...       ...      ...         ...\n",
       "241915 2025-03-07    23        8       CH4  Node 26  190.712635\n",
       "241916 2025-03-07    23        8       CH4  Node 27  416.867018\n",
       "241917 2025-03-07    23        8       CH4  Node 28  494.061738\n",
       "241918 2025-03-07    23        8       CH4  Node 29  690.976226\n",
       "241919 2025-03-07    23        8       CH4  Node 30  652.420499\n",
       "\n",
       "[241920 rows x 6 columns]"
      ]
     },
     "execution_count": 3,
     "metadata": {},
     "output_type": "execute_result"
    }
   ],
   "source": [
    "pollution_df"
   ]
  }
 ],
 "metadata": {
  "kernelspec": {
   "display_name": ".venv",
   "language": "python",
   "name": "python3"
  },
  "language_info": {
   "codemirror_mode": {
    "name": "ipython",
    "version": 3
   },
   "file_extension": ".py",
   "mimetype": "text/x-python",
   "name": "python",
   "nbconvert_exporter": "python",
   "pygments_lexer": "ipython3",
   "version": "3.12.3"
  }
 },
 "nbformat": 4,
 "nbformat_minor": 2
}
